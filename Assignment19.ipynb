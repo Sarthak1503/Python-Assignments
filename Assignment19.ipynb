{
 "cells": [
  {
   "cell_type": "markdown",
   "metadata": {
    "collapsed": true
   },
   "source": [
    "# Question1: Create a numpy array with 10 elements of the shape(10,1) using np.random and find out the mean of the elements using basic numpy functions."
   ]
  },
  {
   "cell_type": "code",
   "execution_count": 3,
   "metadata": {},
   "outputs": [
    {
     "name": "stdout",
     "output_type": "stream",
     "text": [
      "The array is  [[0.43728126]\n",
      " [0.40858184]\n",
      " [0.91342018]\n",
      " [0.72380693]\n",
      " [0.70460576]\n",
      " [0.65225805]\n",
      " [0.48216387]\n",
      " [0.95419739]\n",
      " [0.87622159]\n",
      " [0.89567927]]\n",
      "The mean of the elements is  0.7048216146153298\n"
     ]
    }
   ],
   "source": [
    "import numpy as np\n",
    "array=np.random.rand(10,1)\n",
    "print(\"The array is \",array)\n",
    "print(\"The mean of the elements is \",array.mean())"
   ]
  },
  {
   "cell_type": "markdown",
   "metadata": {},
   "source": [
    "# Question2: Create a numpy array with 20 elements of the shape(20,1) using np.random find the variance and standard deviation of the elements."
   ]
  },
  {
   "cell_type": "code",
   "execution_count": 5,
   "metadata": {},
   "outputs": [
    {
     "name": "stdout",
     "output_type": "stream",
     "text": [
      "The array is  [[0.3440005 ]\n",
      " [0.86737911]\n",
      " [0.35283843]\n",
      " [0.42782533]\n",
      " [0.38744677]\n",
      " [0.87455574]\n",
      " [0.22288572]\n",
      " [0.79282887]\n",
      " [0.68996814]\n",
      " [0.72013629]\n",
      " [0.39840857]\n",
      " [0.95257517]\n",
      " [0.29528972]\n",
      " [0.02158965]\n",
      " [0.62327717]\n",
      " [0.94888259]\n",
      " [0.71700718]\n",
      " [0.43930845]\n",
      " [0.31310272]\n",
      " [0.70851533]]\n",
      "The variance of the elements is  0.06788815403615414\n",
      "The standard deviation of the elements is  0.26055355310598655\n"
     ]
    }
   ],
   "source": [
    "import numpy as np\n",
    "array=np.random.rand(20,1)\n",
    "print(\"The array is \",array)\n",
    "print(\"The variance of the elements is \",array.var())\n",
    "print(\"The standard deviation of the elements is \",array.std())"
   ]
  },
  {
   "cell_type": "markdown",
   "metadata": {},
   "source": [
    "# Question3: Create a numpy array A of shape(10,20) and B of shape (20,25) using np.random. Print the matrix which is the matrix multiplication of A and B. The shape of the new matrix should be (10,25). Using basic numpy math functions only find the sum of all the elements of the new matrix."
   ]
  },
  {
   "cell_type": "code",
   "execution_count": 6,
   "metadata": {},
   "outputs": [
    {
     "name": "stdout",
     "output_type": "stream",
     "text": [
      "The multiplication of array A and B is arrayC  [[3.90107992 4.39849522 4.87152979 4.29464006 4.55137569 3.82129844\n",
      "  5.4674056  4.59125321 3.67767105 3.67938635 3.81475306 4.06074397\n",
      "  3.12914603 3.71234584 3.57183503 3.44967903 3.98277814 4.76966376\n",
      "  4.83134073 4.38753424 4.76145066 4.93797332 3.87363295 4.92726262\n",
      "  4.73897079]\n",
      " [4.16946902 4.60872644 4.66111741 4.08223468 3.93548232 4.19892264\n",
      "  4.67044396 5.24014794 3.33832844 3.87185944 4.19499169 3.67911497\n",
      "  3.69600229 3.75686561 3.53298779 4.17146827 4.98680461 4.05834507\n",
      "  5.59860264 4.08390009 5.6276572  5.09813288 3.89321689 4.54712884\n",
      "  4.91890452]\n",
      " [4.86899161 5.01042912 4.85141361 5.48872739 5.30468343 5.13636344\n",
      "  6.01238628 6.19468576 4.45926958 4.13983297 4.49119705 4.78465246\n",
      "  4.8406176  4.51447276 4.82777767 4.99285833 4.75451395 5.24887335\n",
      "  5.38312922 5.98822655 6.47036988 5.4547781  5.0591836  5.44799259\n",
      "  5.43171896]\n",
      " [4.54468093 4.67359299 4.97296032 5.72050311 5.03182117 4.58185913\n",
      "  6.17947656 6.90388567 4.25496326 4.37073151 4.43742491 4.35510183\n",
      "  3.945174   4.30304867 4.40469207 4.86225403 5.55756286 5.77223911\n",
      "  5.78422384 5.22807542 5.95028057 5.47356475 4.89303352 5.43537724\n",
      "  5.76485577]\n",
      " [5.26769752 5.50217827 5.68613905 6.27839044 5.53206269 5.197041\n",
      "  6.25010373 6.03046659 4.6173617  4.17073377 4.66309394 5.41262915\n",
      "  4.73188987 4.95748389 4.92777105 5.10427949 5.84016334 5.21659931\n",
      "  6.25113879 5.8166157  6.60057986 6.09520871 5.55986536 6.11818023\n",
      "  5.64345835]\n",
      " [4.28009767 5.00251928 5.05248173 4.80007223 4.97698953 4.57925277\n",
      "  5.56955139 5.12195871 3.26223127 3.77647687 4.03583468 4.4094537\n",
      "  4.00990835 4.25087714 4.2726891  4.66219266 5.7149222  4.64946479\n",
      "  5.62381617 5.04269844 6.19231622 5.34973784 4.62633176 5.0766627\n",
      "  5.09368599]\n",
      " [4.90061557 5.41073257 5.0970461  5.29480246 5.51290426 5.30106431\n",
      "  6.36258808 6.1876405  4.59089473 3.74769436 4.20042625 4.85895536\n",
      "  4.39949434 4.56250841 4.53931442 4.85637885 4.72553803 5.72036239\n",
      "  5.59729269 4.87409255 6.23379633 5.95893201 5.08344182 5.46832375\n",
      "  5.8941727 ]\n",
      " [3.75024326 3.47570601 3.842586   4.02202545 4.71849504 4.03261341\n",
      "  4.98857621 5.00101552 3.92380161 3.65163988 3.6253015  3.32489923\n",
      "  3.75765984 3.30052003 3.60910176 4.44630503 3.07459597 4.77184332\n",
      "  3.85042932 4.56506382 4.86607504 4.50767044 4.02034208 5.02087234\n",
      "  4.88654985]\n",
      " [5.53772153 6.79678262 6.74310787 6.01886453 6.26779981 5.72806604\n",
      "  7.48334004 6.51187143 4.9419879  4.75066532 4.91214273 5.28788482\n",
      "  5.41931388 5.08982792 5.18895173 5.6214739  5.83962023 6.39679736\n",
      "  6.34609815 6.60860079 7.45797428 7.06717463 5.25451566 5.83178283\n",
      "  6.65469644]\n",
      " [3.36416787 4.46245343 4.9361215  4.4757147  3.86202067 3.9186793\n",
      "  5.10476571 4.60719161 2.90923652 3.35272116 2.74642587 3.48124887\n",
      "  3.99641905 3.83019613 3.91474173 4.31605788 5.46528609 4.23323012\n",
      "  4.81031196 4.13621064 5.2622587  4.32201565 3.78058535 4.64788058\n",
      "  5.02536324]]\n",
      "The sum of arrayC elements is  1215.417296204349\n"
     ]
    }
   ],
   "source": [
    "import numpy as np\n",
    "arrayA=np.random.rand(10,20)\n",
    "arrayB=np.random.rand(20,25)\n",
    "arrayC=np.matmul(arrayA,arrayB)\n",
    "print(\"The multiplication of array A and B is arrayC \",arrayC)\n",
    "print(\"The sum of arrayC elements is \",arrayC.sum())\n"
   ]
  },
  {
   "cell_type": "markdown",
   "metadata": {},
   "source": [
    "#  Question4: Create a Numpy Array"
   ]
  },
  {
   "cell_type": "code",
   "execution_count": 7,
   "metadata": {},
   "outputs": [
    {
     "name": "stdout",
     "output_type": "stream",
     "text": [
      "[[0.67596513]\n",
      " [0.33061969]\n",
      " [0.47659308]\n",
      " [0.22452911]\n",
      " [0.13486979]\n",
      " [0.13761444]\n",
      " [0.40429904]\n",
      " [0.31253163]\n",
      " [0.50676283]\n",
      " [0.71594043]]\n",
      "[[0.66283756]\n",
      " [0.58191015]\n",
      " [0.61694306]\n",
      " [0.55589764]\n",
      " [0.53366643]\n",
      " [0.53434942]\n",
      " [0.59972011]\n",
      " [0.57750308]\n",
      " [0.6240473 ]\n",
      " [0.67171245]]\n"
     ]
    }
   ],
   "source": [
    "import numpy as np\n",
    "import math\n",
    "A=np.random.rand(10,1)\n",
    "print(A)\n",
    "def func(x):\n",
    "    return(1/(1 + np.exp(-x)))\n",
    "result=np.apply_along_axis(func, 0, A)\n",
    "print(result)"
   ]
  },
  {
   "cell_type": "code",
   "execution_count": null,
   "metadata": {},
   "outputs": [],
   "source": []
  }
 ],
 "metadata": {
  "kernelspec": {
   "display_name": "Python 3",
   "language": "python",
   "name": "python3"
  },
  "language_info": {
   "codemirror_mode": {
    "name": "ipython",
    "version": 3
   },
   "file_extension": ".py",
   "mimetype": "text/x-python",
   "name": "python",
   "nbconvert_exporter": "python",
   "pygments_lexer": "ipython3",
   "version": "3.6.2"
  }
 },
 "nbformat": 4,
 "nbformat_minor": 1
}
